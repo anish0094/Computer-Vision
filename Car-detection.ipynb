{
 "cells": [
  {
   "cell_type": "code",
   "execution_count": 1,
   "id": "647ac366",
   "metadata": {},
   "outputs": [],
   "source": [
    "import cv2"
   ]
  },
  {
   "cell_type": "code",
   "execution_count": 3,
   "id": "dba46d20",
   "metadata": {},
   "outputs": [],
   "source": [
    "cap = cv2.VideoCapture(\"video.mp4\")\n",
    "\n",
    "while True:\n",
    "    r, f = cap.read()\n",
    "    if r:\n",
    "        gry = cv2.cvtColor(f, cv2.COLOR_BGR2RGB)\n",
    "        car = cv2.CascadeClassifier(\"cars.xml\")\n",
    "        \n",
    "        cars = car.detectMultiScale(gry, 1.2, 3)\n",
    "        \n",
    "        for(x, y, w, h) in cars:\n",
    "            cv2.rectangle(f,(x, y), (x+w, y+h), (0, 0, 255), 3)\n",
    "            \n",
    "        cv2.imshow(\"Cars\", f)\n",
    "        if cv2.waitKey(25) & 0xff == ord(\"q\"):\n",
    "            break\n",
    "    else:\n",
    "        break\n",
    "    \n",
    "cap.release()\n",
    "cv2.destroyAllWindows()\n",
    "## Press 'q' to close the frame"
   ]
  },
  {
   "cell_type": "code",
   "execution_count": null,
   "id": "5522c7aa",
   "metadata": {},
   "outputs": [],
   "source": []
  }
 ],
 "metadata": {
  "kernelspec": {
   "display_name": "Python 3 (ipykernel)",
   "language": "python",
   "name": "python3"
  },
  "language_info": {
   "codemirror_mode": {
    "name": "ipython",
    "version": 3
   },
   "file_extension": ".py",
   "mimetype": "text/x-python",
   "name": "python",
   "nbconvert_exporter": "python",
   "pygments_lexer": "ipython3",
   "version": "3.9.18"
  }
 },
 "nbformat": 4,
 "nbformat_minor": 5
}
