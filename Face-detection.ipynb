{
 "cells": [
  {
   "cell_type": "code",
   "execution_count": null,
   "id": "17993bdc-c2a2-45ee-8657-991f8039d5a6",
   "metadata": {},
   "outputs": [],
   "source": [
    "import cv2\n",
    "import mediapipe as mp"
   ]
  },
  {
   "cell_type": "code",
   "execution_count": null,
   "id": "0b33b5a5-83fb-4f81-a3bc-4782ca3f2332",
   "metadata": {},
   "outputs": [],
   "source": [
    "mp_face_det = mp.solutions.face_detection\n",
    "mp_draw = mp.solutions.drawing_utils"
   ]
  },
  {
   "cell_type": "code",
   "execution_count": null,
   "id": "82051a80",
   "metadata": {},
   "outputs": [],
   "source": [
    "face_dect = mp_face_det.FaceDetection(min_detection_confidence = 1, model_selection=0)\n",
    "cap = cv2.VideoCapture(0)"
   ]
  },
  {
   "cell_type": "code",
   "execution_count": null,
   "id": "359fb0aa",
   "metadata": {},
   "outputs": [],
   "source": [
    "while cap.isOpened():\n",
    "    r, frame = cap.read()\n",
    "    frame = cv2.flip(frame, 1)\n",
    "    \n",
    "    frame = cv2.cvtColor(frame, cv2.COLOR_BGR2RGB)\n",
    "    \n",
    "    result = face_dect.process(frame)\n",
    "    \n",
    "    frame = cv2.cvtColor(frame, cv2.COLOR_RGB2BGR)\n",
    "    if r:\n",
    "        for cr in result.detections:\n",
    "            mp_draw.draw_detection(frame, cr)\n",
    "        \n",
    "        cv2.imshow(\"Face Detection\", frame)\n",
    "        if cv2.waitKey(25) & 0xff == ord(\"q\"):\n",
    "            break\n",
    "    else:\n",
    "        break"
   ]
  },
  {
   "cell_type": "code",
   "execution_count": null,
   "id": "0b4134a0",
   "metadata": {},
   "outputs": [],
   "source": []
  }
 ],
 "metadata": {
  "kernelspec": {
   "display_name": "Python 3 (ipykernel)",
   "language": "python",
   "name": "python3"
  },
  "language_info": {
   "codemirror_mode": {
    "name": "ipython",
    "version": 3
   },
   "file_extension": ".py",
   "mimetype": "text/x-python",
   "name": "python",
   "nbconvert_exporter": "python",
   "pygments_lexer": "ipython3",
   "version": "3.9.18"
  }
 },
 "nbformat": 4,
 "nbformat_minor": 5
}
